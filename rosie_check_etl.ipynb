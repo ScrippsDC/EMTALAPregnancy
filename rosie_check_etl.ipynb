{
 "cells": [
  {
   "attachments": {},
   "cell_type": "markdown",
   "id": "31f15e1b",
   "metadata": {},
   "source": [
    "This notebook combines Rachel Gold (@rachgoldaz, RG) and Rosie Cima (@cimar, RC) distinct methodologies for flagging potentially pregnant patients among the EMTALA deficiencies reported by CMS."
   ]
  },
  {
   "cell_type": "code",
   "execution_count": 102,
   "id": "5f39ec25",
   "metadata": {},
   "outputs": [],
   "source": [
    "import pandas\n",
    "\n",
    "# Stop phrases for @rachgoldaz methodology for detecting pregnant patients. @cimar note: This is @rachgoldaz's attempt to remove boilerplate that contains her keywords. I minimally edited this, but took out \"vaginal pain, abdominal bleeding\" from this list because it didn't have a corresponding keyword\n",
    "IGNORE_PHRASES_PASS_RG = ['pregnancy test', 'medical condition, and /or pregnancy within its capabilities', 'medical condition, and/or pregnancy within its capabilities','pregnancy/active labor','hospital does not do ultrasounds except for pregnancy','the hospital does not do ultrasounds except for pregnancy','treatment based on how far along they were in their pregnancy','relates to pregnancy','during her pregnancy could be assessed for labor by a labor and delivery nurse','A preterm or premature baby is delivered before 37 weeks of the pregnancy','medical screening examinations for patients with pregnancy-related conditions under standardized procedures','urine test for pregnancy','urine pregnancy test if potential for pregnancy','except for pregnancy','citizenship, religion, pregnancy','without pregnancy','pregnancy and childbirth','no intrauterine pregnancy','urine pregnancy','Drug screen, Urine, pregnancy','complaints were not related to pregnancy','presenting to ED with pregnancy greater than 20 weeks','complaint is non-pregnancy related','An evaluation sufficient to determine if an emergency medical condition or pregnancy with contractions exists','possible EMCs related to pregnancy','If an emergency medical condition or pregnancy with contractions is present, the hospital must provide such additional medical examination and treatment','A minor who understands the nature and consequences of treatment is capable of consenting if the minor is 18 years of age or older, graduated from high school, has married, has been pregnant, needs diagnosis or treatment of pregnancy or venereal disease, or is 14 years of age or older and requests psychiatric treatment','someone in need of emergency care for a psychiatric or pregnancy-relations condition','discussion with prophylaxis against pregnancy','In pregnancy at-term, stabilization includes delivery of the child and the placenta','Using screen for pregnancy','Abdominal pain - any female of childbearing age requiring diagnostic testing to determine pregnancy','policy when presenting unscheduled for pregnancy related emergency care']\n",
    "\n",
    "# Keywords for @rachgoldaz methodology for detecting pregnant patients\n",
    "KEYWORDS_RG = [\"weeks pregnant\",\"miscarried\",\"stillborn\",\"water breaking\",\"water broke\",\"weeks gestation\",\"weeks' gestation\",\"weeks with labor\",\"week pregnant\",\"she was pregnant\",\"was pregnant\",\"water had broken\",\"was in labor\",\"was in active labor\",\"was born\",\"was noticeably pregnant\",\"year old pregnant\",\"months pregnant\",\"months gestation\",\"wks (weeks) preg (pregnant)\",\"currently pregnant\",\"weeks of pregnancy\",\"gestational age\",\"leaking amniotic fluid\",\"wks (weeks)\",\"pregnancy\"]\n",
    "\n",
    "# Stop phrases @cimar methodology for detecting pregnant patients\n",
    "IGNORE_PHRASES_PASS_RC = [\"pregnancy test\",\"test for pregnancy\",\"active labor act\",\"active labor (sic) act\"]\n",
    "\n",
    "# Keywords for @cimar methodology for detecting pregnant patients\n",
    "KEYWORDS_RC = ['gravid','pregnan','eclampsia','caeserian',' c-section',' csection',' c section',' para ','gestation','water break','water broke','active labor','obstetr']\n",
    "\n",
    "# EMTALA deficiency codes: (2400, 2401, 2402, 2403, 2404, 2405, 2406, 2407, 2408, 2409, 2410, 2411)\n",
    "EMTALA_RANGE = range(2400,2412)\n",
    "\n",
    "q3pt1 = pandas.read_excel(\"data/source/Hospital_2567s_2022Q3/Hospital 2567s - 2022Q3 Part 1.xlsx\")\n",
    "q3pt2 = pandas.read_excel(\"data/source/Hospital_2567s_2022Q3/Hospital 2567s - 2022Q3 Part 2.xlsx\")\n",
    "\n",
    "q3 = pandas.concat([q3pt1,q3pt2])\n",
    "\n",
    "def std_text(insp_text, ignore_words):\n",
    "    std_text = insp_text.lower()\n",
    "    for p in IGNORE_PHRASES_PASS2:\n",
    "        std_text = std_text.replace(p,\"\")\n",
    "    return std_text\n",
    "\n",
    "# @rachgoldaz's methodology looks for keywords in the standardized text field (std_text_rg)\n",
    "def search_kw(std_text,kw):\n",
    "    for k in kw:\n",
    "        if k in std_text:\n",
    "            return True\n",
    "    return False\n",
    "\n",
    "def make_key_identifier(row):\n",
    "    return str(row[\"deficiency_tag\"]).split(\".\")[0] + \" \" + str(row[\"EVENT_ID\"])\n",
    "\n",
    "q3[\"key_identifier\"] = q3.apply(make_key_identifier, axis=1)\n",
    "q3[\"std_text_rg\"] = q3[\"inspection_text\"].apply(std_text, ignore_words=IGNORE_PHRASES_PASS_RG)\n",
    "q3[\"std_text_rc\"] = q3[\"inspection_text\"].apply(std_text, ignore_words=IGNORE_PHRASES_PASS_RC)\n",
    "q3[\"may_be_pregnant_rg\"] = q3[\"std_text_rg\"].apply(search_kw, kw=KEYWORDS_RG)"
   ]
  },
  {
   "cell_type": "code",
   "execution_count": 103,
   "id": "c08215b9",
   "metadata": {},
   "outputs": [],
   "source": [
    "import re\n",
    "\n",
    "# The inspection text often has phrases that identify single, anonymous patients. These are the substrings and regex that indicate a patient identifier.\n",
    "PATIENT_ID_STRS = [\"patient #\",\"patient id #\", \"pt #\", \"pi #\", \"(pi) #\"]\n",
    "PATIENT_ID_REGEX = [\"patient \\\\d\",\"patient id \\\\d\",\"pt \\\\d\", \"pi \\\\d\", \"(pi) \\\\d\"]\n",
    "\n",
    "WINDOW_AFTER = 200\n",
    "WINDOW_BEFORE = 100\n",
    "\n",
    "# @cimar's methodology is two-part. This function looks for keywords in the vicinity of patient identifiers (defined as substrings or regex). It returns the first keyword found -- if it finds one. Otherwise it returns None.\n",
    "def may_be_preg_rc_near_text(text):\n",
    "    for p in PATIENT_ID_STRS:\n",
    "        inc = 0\n",
    "        while True:\n",
    "            ind = text.find(p,inc)\n",
    "            if ind < 0:\n",
    "                break\n",
    "            start = ind - WINDOW_BEFORE\n",
    "            end = ind + WINDOW_AFTER\n",
    "            substr = text[start:end]\n",
    "            k = search_kw(substr,KEYWORDS_RC)\n",
    "            for k in KEYWORDS_RC:\n",
    "                if k in substr:\n",
    "                    return k\n",
    "            inc = ind+len(p)\n",
    "    for r in PATIENT_ID_REGEX:\n",
    "        inc = 0\n",
    "        while True:\n",
    "            contains_regex = re.search(r,text[inc:])\n",
    "            if not contains_regex:\n",
    "                break\n",
    "            ind = contains_regex.span()[0]\n",
    "            start = ind - WINDOW_BEFORE\n",
    "            end = ind + WINDOW_AFTER\n",
    "            substr = text[start:end]\n",
    "            for k in KEYWORDS_RC:\n",
    "                if k in substr:\n",
    "                    return k\n",
    "            inc += contains_regex.span()[1]\n",
    "    return None\n",
    "\n",
    "# @cimar's methodology is two-part. This function looks for keywords in the same paragraphs as patient identifiers (defined as substrings or regex). It returns the first keyword found -- if it finds one. Otherwise it returns None.\n",
    "def may_be_preg_rc_graf(text):\n",
    "    grafs = text.split(\"\\n\")\n",
    "    for g in grafs:\n",
    "        for p in PATIENT_ID_STRS:\n",
    "            if p in g:\n",
    "                for k in KEYWORDS_RC:\n",
    "                    if k in g:\n",
    "                        return k\n",
    "        for r in PATIENT_ID_REGEX:\n",
    "            if re.search(r,g):\n",
    "                for k in KEYWORDS_RC:\n",
    "                    if k in g:\n",
    "                        return k\n",
    "    return None\n",
    "\n",
    "def is_emtala_deficiency(code):\n",
    "    if code in EMTALA_RANGE:\n",
    "        return True\n",
    "    return False\n",
    "\n",
    "q3[\"may_be_pregnant_rc_near_text\"] = q3[\"std_text_rc\"].apply(may_be_preg_rc_near_text)\n",
    "q3[\"may_be_pregnant_rc_graf\"] = q3[\"std_text_rc\"].apply(may_be_preg_rc_graf)"
   ]
  },
  {
   "cell_type": "code",
   "execution_count": 109,
   "id": "03683f1f",
   "metadata": {},
   "outputs": [
    {
     "data": {
      "text/plain": [
       "(916, 19)"
      ]
     },
     "execution_count": 109,
     "metadata": {},
     "output_type": "execute_result"
    }
   ],
   "source": [
    "# Passing @rachgoldaz's methodology or either part of @cimar's methodology AND having an EMTALA deficiency code flags the case for manual review.\n",
    "emtala_may_be_preg = q3[((~q3[\"may_be_pregnant_rc_graf\"].isnull())|(~q3[\"may_be_pregnant_rc_near_text\"].isnull())|(q3[\"may_be_pregnant_rg\"]))&(q3[\"deficiency_tag\"].apply(is_emtala_deficiency))]\n",
    "\n",
    "# Export for manual review -- there are csv encoding issues with the inspection text field, so I'm exporting to Excel.\n",
    "emtala_may_be_preg.to_excel(\"data/processed/emtala_may_be_preg.xlsx\",index=False)\n",
    "\n",
    "emtala_may_be_preg.shape"
   ]
  },
  {
   "cell_type": "code",
   "execution_count": 157,
   "id": "15995184",
   "metadata": {},
   "outputs": [],
   "source": [
    "# Importing the manually reviewed spreadsheet\n",
    "\n",
    "manual_review = pandas.read_excel(\"data/manual/EMTALA_PREGNANT_2011-2022.xlsx\")\n",
    "manual_review_keys = pandas.Series(manual_review[\"key_identifier\"].unique())\n",
    "\n",
    "emtala_may_be_preg[~(emtala_may_be_preg[\"key_identifier\"].isin(manual_review_keys))]"
   ]
  },
  {
   "cell_type": "code",
   "execution_count": 160,
   "id": "fdd1bc5e",
   "metadata": {},
   "outputs": [
    {
     "data": {
      "text/plain": [
       "(679, 19)"
      ]
     },
     "execution_count": 160,
     "metadata": {},
     "output_type": "execute_result"
    }
   ],
   "source": [
    "is_pregnant = emtala_may_be_preg[(emtala_may_be_preg[\"key_identifier\"].isin(manual_review_keys))]\n",
    "\n",
    "is_pregnant.to_excel(\"data/processed/manual_recombo.xlsx\",index=False)\n",
    "is_pregnant.shape"
   ]
  },
  {
   "cell_type": "code",
   "execution_count": 139,
   "id": "a4a92438",
   "metadata": {},
   "outputs": [
    {
     "data": {
      "text/plain": [
       "122            NaN\n",
       "324     Patient #1\n",
       "dtype: object"
      ]
     },
     "execution_count": 139,
     "metadata": {},
     "output_type": "execute_result"
    }
   ],
   "source": [
    "manual_review_keys[~manual_review_keys.isin(emtala_may_be_preg[\"key_identifier\"])]"
   ]
  },
  {
   "cell_type": "code",
   "execution_count": 153,
   "id": "9dae3324",
   "metadata": {},
   "outputs": [
    {
     "data": {
      "text/plain": [
       "[' Patient #1',\n",
       " '2400 XI4411',\n",
       " '2406 XI4411',\n",
       " '2407 XI4411',\n",
       " '2411 0I8X11',\n",
       " '2407 HNOX11']"
      ]
     },
     "execution_count": 153,
     "metadata": {},
     "output_type": "execute_result"
    }
   ],
   "source": [
    "manual_review[(manual_review[\"key_identifier\"].duplicated())&(manual_review[\"key_identifier\"].notna())][[\"deficiency_tag\",\"EVENT_ID\",\"key_identifier\"]][\"key_identifier\"].tolist()"
   ]
  },
  {
   "cell_type": "code",
   "execution_count": 161,
   "id": "cbc93d54",
   "metadata": {},
   "outputs": [
    {
     "data": {
      "text/plain": [
       "426"
      ]
     },
     "execution_count": 161,
     "metadata": {},
     "output_type": "execute_result"
    }
   ],
   "source": [
    "manual_review[\"facility_id\"].nunique()"
   ]
  }
 ],
 "metadata": {
  "kernelspec": {
   "display_name": "Python 3 (ipykernel)",
   "language": "python",
   "name": "python3"
  },
  "language_info": {
   "codemirror_mode": {
    "name": "ipython",
    "version": 3
   },
   "file_extension": ".py",
   "mimetype": "text/x-python",
   "name": "python",
   "nbconvert_exporter": "python",
   "pygments_lexer": "ipython3",
   "version": "3.10.8"
  }
 },
 "nbformat": 4,
 "nbformat_minor": 5
}
