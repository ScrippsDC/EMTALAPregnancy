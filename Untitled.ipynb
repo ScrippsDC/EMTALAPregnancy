{
 "cells": [
  {
   "cell_type": "code",
   "execution_count": null,
   "id": "50cd17e0",
   "metadata": {},
   "outputs": [],
   "source": [
    "library(tidyverse)\n",
    "library(dplyr)\n",
    "library(readxl)\n",
    "library(stringr)\n",
    "library(ggplot2)\n",
    "library(reshape2)\n",
    "library(raster)\n",
    "library(writexl)\n",
    "library(gganimate)\n",
    "\n",
    "cms_deficiencies1 <- read_xlsx(\n",
    "\"data/source/cms_emtala_violations1.xlsx\")\n",
    "\n",
    "cms_deficiencies2 <- read_xlsx(\n",
    "\"data/source/cms_emtala_violations2.xlsx\")\n",
    "\n",
    "events_all<- bind_rows(cms_deficiencies1, cms_deficiencies2)\n",
    "\n",
    "emtala_events_psych_crit_short <- events_all %>%\n",
    " filter(grepl('2400|2401|2402|2403|2404|2405|2406|2407|2408|2409|2410|2411', deficiency_tag))\n",
    "\n",
    "emtala_events_psych_crit_short$index <- 1:nrow(emtala_events_psych_crit_short)\n",
    "\n",
    "emtala_events_psych_crit_short$year <- format(as.Date(emtala_events_psych_crit_short$inspection_date, format=\"%Y/%M/%D\"),\"%Y\")\n",
    "\n",
    "emtala_events_psych_crit_short$key_identifier <-\n",
    "  paste(emtala_events_psych_crit_short$deficiency_tag, emtala_events_psych_crit_short$EVENT_ID)\n",
    "\n",
    "emtala_events_crit_short$inspection_text2 <- stringi::stri_replace_all_regex(emtala_events_crit_short$inspection_text,\n",
    "                                  pattern=c('abdominal pain, vaginal bleeding', 'pregnancy test', 'medical condition, and /or pregnancy within its capabilities', 'medical condition, and/or pregnancy within its capabilities','pregnancy/active labor','hospital does not do ultrasounds except for pregnancy','the hospital does not do ultrasounds except for pregnancy','treatment based on how far along they were in their pregnancy','relates to pregnancy','during her pregnancy could be assessed for labor by a labor and delivery nurse','A preterm or premature baby is delivered before 37 weeks of the pregnancy','medical screening examinations for patients with pregnancy-related conditions under standardized procedures','urine test for pregnancy','urine pregnancy test if potential for pregnancy','except for pregnancy','citizenship, religion, pregnancy','without pregnancy','pregnancy and childbirth','no intrauterine pregnancy','urine pregnancy','Drug screen, Urine, pregnancy','complaints were not related to pregnancy','presenting to ED with pregnancy greater than 20 weeks','complaint is non-pregnancy related','An evaluation sufficient to determine if an emergency medical condition or pregnancy with contractions exists','possible EMCs related to pregnancy','If an emergency medical condition or pregnancy with contractions is present, the hospital must provide such additional medical examination and treatment','A minor who understands the nature and consequences of treatment is capable of consenting if the minor is 18 years of age or older, graduated from high school, has married, has been pregnant, needs diagnosis or treatment of pregnancy or venereal disease, or is 14 years of age or older and requests psychiatric treatment','someone in need of emergency care for a psychiatric or pregnancy-relations condition','discussion with prophylaxis against pregnancy','In pregnancy at-term, stabilization includes delivery of the child and the placenta','Using screen for pregnancy','Abdominal pain - any female of childbearing age requiring diagnostic testing to determine pregnancy','policy when presenting unscheduled for pregnancy related emergency care'),\n",
    "                                            \n",
    "                                            \n",
    "                                          \n",
    "                                  replacement=c('','','','','','','','','','','','','','','','','','','','','','','','','','','','','','','','','',''),vectorize=FALSE)\n",
    "\n",
    "emtala_key_word_deficiencies <- emtala_events_crit_short %>% \n",
    "  dplyr::select(facility_name, hospital_type, facility_id, address, city, state, deficiency_tag, dfcncy_desc,inspection_date, EVENT_ID, inspection_text, inspection_text2, index, key_identifier, year) %>% \n",
    "  dplyr::filter(str_detect(inspection_text2, \"weeks pregnant|miscarried|stillborn|water breaking|water broke|weeks gestation|weeks' gestation|weeks with labor|week pregnant|she was pregnant|was pregnant|water had broken|was in labor|was in active labor|was born|was noticeably pregnant|year old pregnant|months pregnant|months gestation|wks (weeks) preg (pregnant)|currently pregnant|weeks of pregnancy|gestational age|leaking amniotic fluid|wks (weeks)|pregnancy\"))\n"
   ]
  }
 ],
 "metadata": {
  "kernelspec": {
   "display_name": "R",
   "language": "R",
   "name": "ir"
  }
 },
 "nbformat": 4,
 "nbformat_minor": 5
}
