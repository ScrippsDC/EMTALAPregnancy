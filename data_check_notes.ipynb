{
 "cells": [
  {
   "attachments": {},
   "cell_type": "markdown",
   "metadata": {},
   "source": [
    "## DATA CHECK NOTES\n",
    "\n",
    "Forgive the mess! This repo has a lot of extra files -- especially data files -- right now. Here's what I've been up to, though:\n",
    "\n",
    "I'm rearranging this so all the ETL is in standalone script files -- both .py and .R (\"0-3_etl*\") and the analysis is in analysis.Rmd file.\n",
    "\n",
    "I also did some transforms so that all of the manual work would be in one step. The etl files ultimately output: [data/processed/2_etl_combined.xlsx](data/processed/2_etl_combined.xlsx). The ones that were coded as pertaining to pregnant patients are in [data/manual/confirmed_pregnant.xlsx](data/manual/confirmed_pregnant.xlsx), and the ones that were not are in [data/manual/not_confirmed_pregnant.xlsx](data/manual/not_confirmed_pregnant.xlsx) -- mostly generated from the following. Not sure where to put this code yet, should maybe leave it unpublished and only publish the resultant data sets."
   ]
  },
  {
   "cell_type": "code",
   "execution_count": 2,
   "metadata": {},
   "outputs": [
    {
     "name": "stdout",
     "output_type": "stream",
     "text": [
      "(127, 19)\n"
     ]
    },
    {
     "name": "stderr",
     "output_type": "stream",
     "text": [
      "/var/folders/n1/qf74t1dj555cgs6f_mhz9nm0m6xrwl/T/ipykernel_6672/3019405527.py:18: SettingWithCopyWarning: \n",
      "A value is trying to be set on a copy of a slice from a DataFrame.\n",
      "Try using .loc[row_indexer,col_indexer] = value instead\n",
      "\n",
      "See the caveats in the documentation: https://pandas.pydata.org/pandas-docs/stable/user_guide/indexing.html#returning-a-view-versus-a-copy\n",
      "  confirmed_pregnant[\"turnaway\"] = confirmed_pregnant[\"key_identifier\"].isin(turnaway_keys)\n"
     ]
    }
   ],
   "source": [
    "import pandas\n",
    "\n",
    "etl_2_combined = pandas.read_excel(\"data/processed/2_etl_combined.xlsx\")\n",
    "manual_pregnant_patient = pandas.read_excel(\"data/processed/EMTALA_PREGNANT_2011-2022--after_spotcheck.xlsx\")\n",
    "more_to_remove = [\"2409 PTBH11\",\"2409 D6YK11\",\"2409 IT9611\",\"2407 74BC11\",\"2409 VRM911\",\"2409 NZOV11\",\"2406 05FK11\",\"2407 ZY3N11\",\"2406 JOU711\",\"2406 4F4G11\",\"2406 8E2Y11\",\"2409 PKRO11\",\"2407 T0DE11\",\"2406 CITS12\",\"2406 S4NX11\",\"2406 RU2V11\",\"2407 UD9X11\",\"2407 KZUZ11\",\"2406 D9FE11\"]\n",
    "\n",
    "pregnant_patient_keys = manual_pregnant_patient[\"key_identifier\"].str.strip().unique().tolist()\n",
    "\n",
    "not_confirmed_pregnant = etl_2_combined[~(etl_2_combined[\"key_identifier\"].str.strip().isin(pregnant_patient_keys))|(etl_2_combined[\"key_identifier\"].str.strip().isin(more_to_remove))|(etl_2_combined[\"hospital_type\"]==\"Psychiatric\")]\n",
    "not_confirmed_pregnant.to_excel(\"data/manual/not_confirmed_pregnant.xlsx\",index=False)\n",
    "print(not_confirmed_pregnant.shape)\n",
    "\n",
    "confirmed_pregnant = etl_2_combined[(etl_2_combined[\"key_identifier\"].str.strip().isin(pregnant_patient_keys))&(~etl_2_combined[\"key_identifier\"].str.strip().isin(more_to_remove))&(etl_2_combined[\"hospital_type\"]!=\"Psychiatric\")]\n",
    "\n",
    "turnaway = pandas.read_excel(\"data/processed/turnaway.xlsx\")\n",
    "turnaway[\"turnaway\"] = turnaway[\"turnaway\"].str.strip()\n",
    "turnaway_keys = turnaway[turnaway[\"turnaway\"].apply(lambda x: str(x)[0]==\"Y\")][\"key_identifier\"].unique()\n",
    "confirmed_pregnant[\"turnaway\"] = confirmed_pregnant[\"key_identifier\"].isin(turnaway_keys)\n",
    "\n",
    "confirmed_pregnant.to_excel(\"data/manual/confirmed_pregnant.xlsx\",index=False)"
   ]
  },
  {
   "attachments": {},
   "cell_type": "markdown",
   "metadata": {},
   "source": [
    "I did spot checks of both of these files. I didn't find anything in the \"confirmed_pregnant\" file that pertained to non-pregnant patients, but I did find a few in the \"not_confirmed_pregnant\" file that appeared to pertain to pregnant patients.\n",
    "\n",
    "#### I think there's a handful of cases that we're excluding that we might want to include -- log and signage violations.\n",
    "\n",
    "This would change the actual numbers in our findings by a small amount. You can view them in [not_confirmed_pregnant--spotcheck.xlsx](\"data/manual/not_confirmed_pregnant--spotcheck.xslx\")"
   ]
  },
  {
   "cell_type": "code",
   "execution_count": 42,
   "metadata": {},
   "outputs": [
    {
     "data": {
      "text/html": [
       "<div>\n",
       "<style scoped>\n",
       "    .dataframe tbody tr th:only-of-type {\n",
       "        vertical-align: middle;\n",
       "    }\n",
       "\n",
       "    .dataframe tbody tr th {\n",
       "        vertical-align: top;\n",
       "    }\n",
       "\n",
       "    .dataframe thead th {\n",
       "        text-align: right;\n",
       "    }\n",
       "</style>\n",
       "<table border=\"1\" class=\"dataframe\">\n",
       "  <thead>\n",
       "    <tr style=\"text-align: right;\">\n",
       "      <th></th>\n",
       "      <th>key_identifier</th>\n",
       "      <th>notes</th>\n",
       "    </tr>\n",
       "    <tr>\n",
       "      <th>Unnamed: 0</th>\n",
       "      <th></th>\n",
       "      <th></th>\n",
       "    </tr>\n",
       "  </thead>\n",
       "  <tbody>\n",
       "    <tr>\n",
       "      <th>68</th>\n",
       "      <td>2402 YOYJ11</td>\n",
       "      <td>it's a signage thing that definitely affected ...</td>\n",
       "    </tr>\n",
       "    <tr>\n",
       "      <th>660</th>\n",
       "      <td>2402 ZSG311</td>\n",
       "      <td>it's a signage thing that definitely affected ...</td>\n",
       "    </tr>\n",
       "    <tr>\n",
       "      <th>523</th>\n",
       "      <td>2405 78J911</td>\n",
       "      <td>it's a log keeping thing that definitely affec...</td>\n",
       "    </tr>\n",
       "    <tr>\n",
       "      <th>169</th>\n",
       "      <td>2402 WEKB11</td>\n",
       "      <td>it's a signage thing that definitely affected ...</td>\n",
       "    </tr>\n",
       "    <tr>\n",
       "      <th>517</th>\n",
       "      <td>2405 724D11</td>\n",
       "      <td>it's a log keeping thing that definitely affec...</td>\n",
       "    </tr>\n",
       "    <tr>\n",
       "      <th>447</th>\n",
       "      <td>2405 X8E611</td>\n",
       "      <td>it's a log keeping thing that definitely affec...</td>\n",
       "    </tr>\n",
       "    <tr>\n",
       "      <th>522</th>\n",
       "      <td>2402 78J911</td>\n",
       "      <td>it's a signage policy thing that definitely af...</td>\n",
       "    </tr>\n",
       "    <tr>\n",
       "      <th>11</th>\n",
       "      <td>2402 C4HB11</td>\n",
       "      <td>it's a signage thing that definitely affected ...</td>\n",
       "    </tr>\n",
       "  </tbody>\n",
       "</table>\n",
       "</div>"
      ],
      "text/plain": [
       "           key_identifier                                              notes\n",
       "Unnamed: 0                                                                  \n",
       "68            2402 YOYJ11  it's a signage thing that definitely affected ...\n",
       "660           2402 ZSG311  it's a signage thing that definitely affected ...\n",
       "523           2405 78J911  it's a log keeping thing that definitely affec...\n",
       "169           2402 WEKB11  it's a signage thing that definitely affected ...\n",
       "517           2405 724D11  it's a log keeping thing that definitely affec...\n",
       "447           2405 X8E611  it's a log keeping thing that definitely affec...\n",
       "522           2402 78J911  it's a signage policy thing that definitely af...\n",
       "11            2402 C4HB11  it's a signage thing that definitely affected ..."
      ]
     },
     "execution_count": 42,
     "metadata": {},
     "output_type": "execute_result"
    }
   ],
   "source": [
    "import pandas \n",
    "\n",
    "spotcheck = pandas.read_excel(\"data/manual/not_confirmed_pregnant--spotcheck.xlsx\",index_col=0)\n",
    "spotcheck[spotcheck[\"pregnant?\"]==\"yes\"][[\"key_identifier\",\"notes\"]]"
   ]
  },
  {
   "attachments": {},
   "cell_type": "markdown",
   "metadata": {},
   "source": [
    "#### There are a handful of \"Y\" responses that we're not counting among the turnaways\n",
    "\n",
    "Most of them look like the turned-away patient was not actually pregnant, but at least two (pre-eclampsia, flagging as good insight) look like they were? This would also change the actual numbers in some of our findings by a small amount."
   ]
  },
  {
   "cell_type": "code",
   "execution_count": 41,
   "metadata": {},
   "outputs": [
    {
     "data": {
      "text/plain": [
       "turnaway\n",
       "Y                                                        237\n",
       "Y -- flagging as good insight into action by hospital      1\n",
       "Y -- motor vehicle accident                                1\n",
       "Y -- pre-eclampsia                                         1\n",
       "Y -- same case same pregnant person                        1\n",
       "Y -- same patient                                          1\n",
       "Name: EVENT_ID, dtype: int64"
      ]
     },
     "execution_count": 41,
     "metadata": {},
     "output_type": "execute_result"
    }
   ],
   "source": [
    "turnaway = pandas.read_excel(\"data/processed/turnaway.xlsx\")\n",
    "turnaway[\"turnaway\"] = turnaway[\"turnaway\"].str.strip()\n",
    "turnaway[turnaway[\"turnaway\"].apply(lambda x: str(x)[0]==\"Y\")].groupby(\"turnaway\")[\"EVENT_ID\"].nunique().sort_index()\n"
   ]
  },
  {
   "attachments": {},
   "cell_type": "markdown",
   "metadata": {},
   "source": [
    "#### I'm confused by what is happening in 3_etl_hosp_summary.R !\n",
    "\n",
    "A large part of this is my R novitiate status -- I tried to clean up what was going on in R, but am not good enough at R to make it actually work ;^-^\n",
    "\n",
    "When I do the analysis I _think_ you might be trying to do in Python, I'm getting different counts (Rachel found 135 rural, 203 non-rural)! The findings still hold true but we should resolve this before publishing the repo!\n",
    "\n",
    "Web: “Scripps News manually reviewed hundreds of CMS investigations involving pregnant patients of both rural and urban hospitals.”\n",
    "\n",
    "Script: “OUR INVESTIGATION FOUND THE CASES INVOLVE BOTH SMALL, RURAL FACILITIES..AND THOSE IN BIG CITIES”\n"
   ]
  },
  {
   "cell_type": "code",
   "execution_count": 80,
   "metadata": {},
   "outputs": [
    {
     "name": "stdout",
     "output_type": "stream",
     "text": [
      "Total number of inspections finding violations in the time period (unique EVENT_ID), broken down by whether or not the hospital was rural: Rural Status\n",
      "No     179\n",
      "Yes    137\n",
      "Name: EVENT_ID, dtype: int64\n",
      "Total number of hospitals in violation in the time period (unique facility_id), broken down by whether or not the hospital was rural: Rural Status\n",
      "No     165\n",
      "Yes    128\n",
      "Name: facility_id, dtype: int64\n"
     ]
    },
    {
     "name": "stderr",
     "output_type": "stream",
     "text": [
      "/var/folders/n1/qf74t1dj555cgs6f_mhz9nm0m6xrwl/T/ipykernel_11910/761598602.py:3: SettingWithCopyWarning: \n",
      "A value is trying to be set on a copy of a slice from a DataFrame.\n",
      "Try using .loc[row_indexer,col_indexer] = value instead\n",
      "\n",
      "See the caveats in the documentation: https://pandas.pydata.org/pandas-docs/stable/user_guide/indexing.html#returning-a-view-versus-a-copy\n",
      "  confirmed_pregnant[\"facility_id\"] = confirmed_pregnant[\"facility_id\"].astype(str)\n"
     ]
    }
   ],
   "source": [
    "rurban_hosp = pandas.read_excel(\"data/public/rural_urban_hospitals.xlsx\")\n",
    "rurban_hosp[rurban_hosp[\"facility_id\"].duplicated()]\n",
    "confirmed_pregnant[\"facility_id\"] = confirmed_pregnant[\"facility_id\"].astype(str)\n",
    "\n",
    "hosp_summ = confirmed_pregnant.groupby([\"facility_id\",\"facility_name\",\"city\",\"state\"]).agg({\"EVENT_ID\":\"nunique\",\"dfcncy_desc\":list_unique,\"inspection_date\":list_unique}).reset_index()\n",
    "emtala_hosp_rurban = hosp_summ.join(rurban_hosp.set_index(\"facility_id\"),on=\"facility_id\",rsuffix=\"_rurban\")\n",
    "\n",
    "inspections_by_rurban = emtala_hosp_rurban.groupby(\"Rural Status\")[\"EVENT_ID\"].sum()\n",
    "hospitals_by_rurban = emtala_hosp_rurban.groupby(\"Rural Status\")[\"facility_id\"].nunique()\n",
    "print(\"Total number of inspections finding violations in the time period (unique EVENT_ID), broken down by whether or not the hospital was rural:\",inspections_by_rurban)\n",
    "print(\"Total number of hospitals in violation in the time period (unique facility_id), broken down by whether or not the hospital was rural:\",hospitals_by_rurban)\n",
    "\n",
    "\n"
   ]
  },
  {
   "attachments": {},
   "cell_type": "markdown",
   "metadata": {},
   "source": [
    "### Pregnant women made up 15.3% of all EMTALA investigations in the time period -- not 16%.\n",
    "\n",
    "My counts match Rachels so I think this just got rounded wrong.\n",
    "\n",
    "```413 investigations of violations against pregnant patients, out of 2694 investigations of overall. ( 15.3303637713437 %)```\n"
   ]
  },
  {
   "attachments": {},
   "cell_type": "markdown",
   "metadata": {},
   "source": [
    "### I moved the keywords and stop phrases into their own files\n",
    "\n",
    "I like including them in the README but they're taking up a lot of real estate, so I think it'd be better if we linked out to them.\n",
    "\n",
    "I'm still going to refactor 1_etl_nearby_text_search.py to also load this data from files we can link to.\n",
    "\n",
    "### Gonna do a quick copyedit of README.md and then we're done here!"
   ]
  },
  {
   "attachments": {},
   "cell_type": "markdown",
   "metadata": {},
   "source": []
  }
 ],
 "metadata": {
  "kernelspec": {
   "display_name": "Python 3 (ipykernel)",
   "language": "python",
   "name": "python3"
  },
  "language_info": {
   "codemirror_mode": {
    "name": "ipython",
    "version": 3
   },
   "file_extension": ".py",
   "mimetype": "text/x-python",
   "name": "python",
   "nbconvert_exporter": "python",
   "pygments_lexer": "ipython3",
   "version": "3.11.3"
  },
  "orig_nbformat": 4
 },
 "nbformat": 4,
 "nbformat_minor": 2
}
